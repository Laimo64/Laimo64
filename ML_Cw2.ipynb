{
  "nbformat": 4,
  "nbformat_minor": 0,
  "metadata": {
    "colab": {
      "provenance": [],
      "gpuType": "T4",
      "include_colab_link": true
    },
    "kernelspec": {
      "name": "python3",
      "display_name": "Python 3"
    },
    "language_info": {
      "name": "python"
    },
    "accelerator": "GPU"
  },
  "cells": [
    {
      "cell_type": "markdown",
      "metadata": {
        "id": "view-in-github",
        "colab_type": "text"
      },
      "source": [
        "<a href=\"https://colab.research.google.com/github/Laimo64/Laimo64/blob/main/ML_Cw2.ipynb\" target=\"_parent\"><img src=\"https://colab.research.google.com/assets/colab-badge.svg\" alt=\"Open In Colab\"/></a>"
      ]
    },
    {
      "cell_type": "code",
      "source": [
        "!gdown --fuzzy https://drive.google.com/file/d/1Pf35070CMmKGFMTccZORTUb7bMROQj9W/view?usp=sharing"
      ],
      "metadata": {
        "colab": {
          "base_uri": "https://localhost:8080/"
        },
        "id": "VEe4Te1-LYwD",
        "outputId": "10003c81-f900-4338-d4e8-38c4e44f7133"
      },
      "execution_count": null,
      "outputs": [
        {
          "output_type": "stream",
          "name": "stdout",
          "text": [
            "Downloading...\n",
            "From (original): https://drive.google.com/uc?id=1Pf35070CMmKGFMTccZORTUb7bMROQj9W\n",
            "From (redirected): https://drive.google.com/uc?id=1Pf35070CMmKGFMTccZORTUb7bMROQj9W&confirm=t&uuid=8e05593b-87a0-4672-9ab8-da59893bf22d\n",
            "To: /content/data.zip\n",
            " 81% 2.67G/3.29G [00:16<00:03, 163MB/s]"
          ]
        }
      ]
    },
    {
      "cell_type": "code",
      "source": [
        "!unzip -q data.zip"
      ],
      "metadata": {
        "id": "QtDi0tRRLsbd"
      },
      "execution_count": null,
      "outputs": []
    },
    {
      "cell_type": "code",
      "source": [
        "# Processes data for Semi-Supervised Learning: Train, Test, and Unlabeled Data Preparation\n",
        "\n",
        "import os\n",
        "import nibabel as nib\n",
        "import numpy as np\n",
        "from scipy.ndimage import zoom\n",
        "\n",
        "# Parameters\n",
        "data_dir = \"/content/data\"  # Directory containing images and masks\n",
        "output_dir = \"/content/processed_data\"  # Directory for processed outputs\n",
        "unlabeled_dir = os.path.join(output_dir, \"unlabeled\")\n",
        "\n",
        "num_train = 50  # Number of training images\n",
        "num_test = 30  # Number of test images\n",
        "target_shape = (64, 64, 32)  # Shape to re-process images to (x, y, slices)\n",
        "slices_first = True  # Put the slice dimension first\n",
        "roi_value = 6  # Value in the mask to extract as ROI\n",
        "image_normalisation = True  # Whether to normalize images between 0 and 1\n",
        "\n",
        "# Create necessary directories\n",
        "os.makedirs(output_dir, exist_ok=True)\n",
        "os.makedirs(unlabeled_dir, exist_ok=True)\n",
        "\n",
        "# Check if output directory is empty\n",
        "if os.path.exists(output_dir) and os.listdir(output_dir):\n",
        "    raise ValueError(f\"Output directory '{output_dir}' is not empty! Please clear the directory and rerun the script.\")\n",
        "\n",
        "# Initialize counters\n",
        "train_count, test_count, unlabeled_count, total_processed = 0, 0, 0, 0\n",
        "\n",
        "# Process files\n",
        "for file_name in sorted(os.listdir(data_dir)):\n",
        "    # Skip non-NIfTI files\n",
        "    if not file_name.endswith(\".nii\"):\n",
        "        continue\n",
        "\n",
        "    # Identify image and mask files\n",
        "    if \"_img\" in file_name:\n",
        "        base_name = file_name.replace(\"_img.nii\", \"\")\n",
        "        mask_file_name = f\"{base_name}_mask.nii\"\n",
        "        img_path = os.path.join(data_dir, file_name)\n",
        "        mask_path = os.path.join(data_dir, mask_file_name)\n",
        "\n",
        "        # Ensure mask file exists\n",
        "        if not os.path.exists(mask_path):\n",
        "            print(f\"Mask file for {file_name} not found, skipping...\")\n",
        "            continue\n",
        "\n",
        "        # Load image and mask\n",
        "        img = nib.load(img_path)\n",
        "        mask = nib.load(mask_path)\n",
        "\n",
        "        img_data = img.get_fdata()\n",
        "        mask_data = mask.get_fdata()\n",
        "\n",
        "        # Skip files with insufficient slices\n",
        "        if img_data.shape[2] < target_shape[2]:\n",
        "            print(f\"{file_name} has fewer slices ({img_data.shape[2]}) than required ({target_shape[2]}), skipping...\")\n",
        "            continue\n",
        "\n",
        "        # Resample image and mask to target shape\n",
        "        scale_factors = (\n",
        "            target_shape[0] / img_data.shape[0],\n",
        "            target_shape[1] / img_data.shape[1],\n",
        "            1,  # Slice scaling handled by slicing\n",
        "        )\n",
        "        resampled_img = zoom(img_data, scale_factors, order=3)  # Cubic interpolation\n",
        "        resampled_mask = zoom(mask_data, scale_factors, order=0)  # Nearest-neighbor interpolation\n",
        "\n",
        "        # Select middle slices\n",
        "        middle_slice_idx = img_data.shape[2] // 2\n",
        "        slice_start = middle_slice_idx - target_shape[2] // 2\n",
        "        slice_end = middle_slice_idx + target_shape[2] // 2\n",
        "        resampled_img = resampled_img[:, :, slice_start:slice_end]\n",
        "        resampled_mask = resampled_mask[:, :, slice_start:slice_end]\n",
        "\n",
        "        # Skip if slicing went out of bounds\n",
        "        if resampled_img.shape[2] != target_shape[2]:\n",
        "            print(f\"{file_name} could not be resized correctly to {target_shape}, skipping...\")\n",
        "            continue\n",
        "\n",
        "        # Normalize image\n",
        "        if image_normalisation:\n",
        "            resampled_img = (resampled_img - np.min(resampled_img)) / (np.max(resampled_img) - np.min(resampled_img))\n",
        "\n",
        "        # Create binary mask for ROI\n",
        "        binary_mask = (resampled_mask == roi_value).astype(np.uint8)\n",
        "\n",
        "        # Rearrange axes if slices_first is True\n",
        "        if slices_first:\n",
        "            resampled_img = np.transpose(resampled_img, (2, 0, 1))  # From (x, y, slices) to (slices, x, y)\n",
        "            binary_mask = np.transpose(binary_mask, (2, 0, 1))\n",
        "\n",
        "        # Save data into train, test, or unlabeled\n",
        "        if total_processed < num_train:\n",
        "            img_output_path = os.path.join(output_dir, f\"image_train{train_count:02d}.npy\")\n",
        "            mask_output_path = os.path.join(output_dir, f\"label_train{train_count:02d}.npy\")\n",
        "            np.save(img_output_path, resampled_img)\n",
        "            np.save(mask_output_path, binary_mask)\n",
        "            print(f\"Processed TRAIN: {file_name} -> {os.path.basename(img_output_path)}, {os.path.basename(mask_output_path)}\")\n",
        "            train_count += 1\n",
        "        elif total_processed < num_train + num_test:\n",
        "            img_output_path = os.path.join(output_dir, f\"image_test{test_count:02d}.npy\")\n",
        "            mask_output_path = os.path.join(output_dir, f\"label_test{test_count:02d}.npy\")\n",
        "            np.save(img_output_path, resampled_img)\n",
        "            np.save(mask_output_path, binary_mask)\n",
        "            print(f\"Processed TEST: {file_name} -> {os.path.basename(img_output_path)}, {os.path.basename(mask_output_path)}\")\n",
        "            test_count += 1\n",
        "        else:\n",
        "            unlabeled_output_path = os.path.join(unlabeled_dir, f\"image_unlabeled{unlabeled_count:02d}.npy\")\n",
        "            np.save(unlabeled_output_path, resampled_img)\n",
        "            print(f\"Processed UNLABELED: {file_name} -> {os.path.basename(unlabeled_output_path)}\")\n",
        "            unlabeled_count += 1\n",
        "\n",
        "        total_processed += 1\n"
      ],
      "metadata": {
        "id": "AzJlOxQZJonS"
      },
      "execution_count": null,
      "outputs": []
    },
    {
      "cell_type": "markdown",
      "source": [
        "U Net"
      ],
      "metadata": {
        "id": "IHEE-yQROi8S"
      }
    },
    {
      "cell_type": "code",
      "source": [
        "import torch\n",
        "import torch.nn as nn\n",
        "\n",
        "class UNet(nn.Module):\n",
        "    def __init__(self):\n",
        "        super(UNet, self).__init__()\n",
        "        # 定義編碼器\n",
        "        self.encoder = nn.Sequential(\n",
        "            nn.Conv2d(1, 64, kernel_size=3, padding=1),\n",
        "            nn.ReLU(),\n",
        "            nn.Conv2d(64, 64, kernel_size=3, padding=1),\n",
        "            nn.ReLU(),\n",
        "            nn.MaxPool2d(2)\n",
        "        )\n",
        "        # 定義解碼器\n",
        "        self.decoder = nn.Sequential(\n",
        "            nn.ConvTranspose2d(64, 64, kernel_size=2, stride=2),\n",
        "            nn.Conv2d(64, 1, kernel_size=1)\n",
        "        )\n",
        "\n",
        "    def forward(self, x):\n",
        "        x1 = self.encoder(x)\n",
        "        x2 = self.decoder(x1)\n",
        "        return x2\n",
        "\n",
        "model = UNet()\n"
      ],
      "metadata": {
        "id": "69N5DNRZLMGn"
      },
      "execution_count": 5,
      "outputs": []
    },
    {
      "cell_type": "markdown",
      "source": [
        "Semi-supervised learning"
      ],
      "metadata": {
        "id": "LOxDDP7gJgXO"
      }
    },
    {
      "cell_type": "code",
      "source": [
        "import torch.nn.functional as F\n",
        "\n",
        "# 模型\n",
        "model = UNet()\n",
        "\n",
        "# 標籤數據損失函數\n",
        "def supervised_loss(predictions, labels):\n",
        "    return F.cross_entropy(predictions, labels)\n",
        "\n",
        "# 一致性損失函數\n",
        "def consistency_loss(original_logits, perturbed_logits):\n",
        "    return F.mse_loss(original_logits, perturbed_logits)\n",
        "\n",
        "# 數據\n",
        "labeled_data, labels = get_labeled_data()  # 有標籤數據\n",
        "unlabeled_data = get_unlabeled_data()      # 無標籤數據\n",
        "\n",
        "# 無標籤數據擾動\n",
        "perturbed_unlabeled_data = augment(unlabeled_data)  # 數據增強\n",
        "\n",
        "# 前向傳播\n",
        "original_logits = model(unlabeled_data)\n",
        "perturbed_logits = model(perturbed_unlabeled_data)\n",
        "\n",
        "# 計算損失\n",
        "supervised_loss_value = supervised_loss(model(labeled_data), labels)\n",
        "consistency_loss_value = consistency_loss(original_logits, perturbed_logits)\n",
        "\n",
        "# 總損失\n",
        "total_loss = supervised_loss_value + lambda_ * consistency_loss_value\n",
        "\n",
        "# 優化\n",
        "optimizer.zero_grad()\n",
        "total_loss.backward()\n",
        "optimizer.step()\n"
      ],
      "metadata": {
        "id": "fiT9b8BVJfys",
        "colab": {
          "base_uri": "https://localhost:8080/",
          "height": 211
        },
        "outputId": "eda2dbad-6727-48f5-b6f1-647eb3867b5c"
      },
      "execution_count": 6,
      "outputs": [
        {
          "output_type": "error",
          "ename": "NameError",
          "evalue": "name 'get_labeled_data' is not defined",
          "traceback": [
            "\u001b[0;31m---------------------------------------------------------------------------\u001b[0m",
            "\u001b[0;31mNameError\u001b[0m                                 Traceback (most recent call last)",
            "\u001b[0;32m<ipython-input-6-a43a7fbe82e4>\u001b[0m in \u001b[0;36m<cell line: 15>\u001b[0;34m()\u001b[0m\n\u001b[1;32m     13\u001b[0m \u001b[0;34m\u001b[0m\u001b[0m\n\u001b[1;32m     14\u001b[0m \u001b[0;31m# 數據\u001b[0m\u001b[0;34m\u001b[0m\u001b[0;34m\u001b[0m\u001b[0m\n\u001b[0;32m---> 15\u001b[0;31m \u001b[0mlabeled_data\u001b[0m\u001b[0;34m,\u001b[0m \u001b[0mlabels\u001b[0m \u001b[0;34m=\u001b[0m \u001b[0mget_labeled_data\u001b[0m\u001b[0;34m(\u001b[0m\u001b[0;34m)\u001b[0m  \u001b[0;31m# 有標籤數據\u001b[0m\u001b[0;34m\u001b[0m\u001b[0;34m\u001b[0m\u001b[0m\n\u001b[0m\u001b[1;32m     16\u001b[0m \u001b[0munlabeled_data\u001b[0m \u001b[0;34m=\u001b[0m \u001b[0mget_unlabeled_data\u001b[0m\u001b[0;34m(\u001b[0m\u001b[0;34m)\u001b[0m      \u001b[0;31m# 無標籤數據\u001b[0m\u001b[0;34m\u001b[0m\u001b[0;34m\u001b[0m\u001b[0m\n\u001b[1;32m     17\u001b[0m \u001b[0;34m\u001b[0m\u001b[0m\n",
            "\u001b[0;31mNameError\u001b[0m: name 'get_labeled_data' is not defined"
          ]
        }
      ]
    },
    {
      "cell_type": "code",
      "execution_count": null,
      "metadata": {
        "id": "uJsR8HVrJbaf"
      },
      "outputs": [],
      "source": []
    }
  ]
}